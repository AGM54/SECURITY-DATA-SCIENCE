{
 "cells": [
  {
   "cell_type": "markdown",
   "metadata": {
    "id": "jkxRSYjzA1oX"
   },
   "source": [
    "##### Copyright 2024 Google LLC."
   ]
  },
  {
   "cell_type": "code",
   "execution_count": 2,
   "metadata": {
    "cellView": "form",
    "execution": {
     "iopub.execute_input": "2025-02-15T18:55:57.981196Z",
     "iopub.status.busy": "2025-02-15T18:55:57.980806Z",
     "iopub.status.idle": "2025-02-15T18:55:57.986484Z",
     "shell.execute_reply": "2025-02-15T18:55:57.985268Z",
     "shell.execute_reply.started": "2025-02-15T18:55:57.981162Z"
    },
    "id": "5u5OZ2ShA3BA",
    "jupyter": {
     "source_hidden": true
    },
    "trusted": true
   },
   "outputs": [],
   "source": [
    "# @title Licensed under the Apache License, Version 2.0 (the \"License\");\n",
    "# you may not use this file except in compliance with the License.\n",
    "# You may obtain a copy of the License at\n",
    "#\n",
    "# https://www.apache.org/licenses/LICENSE-2.0\n",
    "#\n",
    "# Unless required by applicable law or agreed to in writing, software\n",
    "# distributed under the License is distributed on an \"AS IS\" BASIS,\n",
    "# WITHOUT WARRANTIES OR CONDITIONS OF ANY KIND, either express or implied.\n",
    "# See the License for the specific language governing permissions and\n",
    "# limitations under the License."
   ]
  },
  {
   "cell_type": "markdown",
   "metadata": {
    "id": "csNPnkuCobmG"
   },
   "source": [
    "# Day 1 - Prompting\n",
    "\n"
   ]
  },
  {
   "cell_type": "markdown",
   "metadata": {
    "id": "UAjUV3BsvFXQ"
   },
   "source": [
    "### Install the SDK"
   ]
  },
  {
   "cell_type": "code",
   "execution_count": 3,
   "metadata": {
    "execution": {
     "iopub.execute_input": "2025-02-15T18:55:57.989106Z",
     "iopub.status.busy": "2025-02-15T18:55:57.988645Z",
     "iopub.status.idle": "2025-02-15T18:56:27.719719Z",
     "shell.execute_reply": "2025-02-15T18:56:27.718316Z",
     "shell.execute_reply.started": "2025-02-15T18:55:57.989058Z"
    },
    "id": "NzwzJFU9LqkJ",
    "trusted": true
   },
   "outputs": [
    {
     "name": "stdout",
     "output_type": "stream",
     "text": [
      "Note: you may need to restart the kernel to use updated packages.\n"
     ]
    }
   ],
   "source": [
    "%pip install -U -q \"google-generativeai>=0.8.3\""
   ]
  },
  {
   "cell_type": "markdown",
   "metadata": {},
   "source": [
    "You do not need to restart the kernel."
   ]
  },
  {
   "cell_type": "code",
   "execution_count": 4,
   "metadata": {
    "execution": {
     "iopub.execute_input": "2025-02-15T18:56:27.721646Z",
     "iopub.status.busy": "2025-02-15T18:56:27.721302Z",
     "iopub.status.idle": "2025-02-15T18:56:28.803065Z",
     "shell.execute_reply": "2025-02-15T18:56:28.801917Z",
     "shell.execute_reply.started": "2025-02-15T18:56:27.721611Z"
    },
    "id": "5DwxYIRavMST",
    "trusted": true
   },
   "outputs": [],
   "source": [
    "import google.generativeai as genai\n",
    "from IPython.display import HTML, Markdown, display"
   ]
  },
  {
   "cell_type": "markdown",
   "metadata": {
    "id": "DNEt2BCOvOJ1"
   },
   "source": [
    "### Set up your API key\n",
    "\n"
   ]
  },
  {
   "cell_type": "code",
   "execution_count": 5,
   "metadata": {
    "execution": {
     "iopub.execute_input": "2025-02-15T18:56:28.805147Z",
     "iopub.status.busy": "2025-02-15T18:56:28.804421Z",
     "iopub.status.idle": "2025-02-15T18:56:29.102672Z",
     "shell.execute_reply": "2025-02-15T18:56:29.101372Z",
     "shell.execute_reply.started": "2025-02-15T18:56:28.805108Z"
    },
    "id": "SHl0bkPCvayd",
    "trusted": true
   },
   "outputs": [],
   "source": [
    "from kaggle_secrets import UserSecretsClient\n",
    "\n",
    "GOOGLE_API_KEY = UserSecretsClient().get_secret(\"GOOGLE_API_KEY\")\n",
    "genai.configure(api_key=GOOGLE_API_KEY)"
   ]
  },
  {
   "cell_type": "markdown",
   "metadata": {
    "id": "H_YXCYIKvyZJ"
   },
   "source": [
    "### Run your first prompt\n",
    "\n",
    "In this step, you will test that your API key is set up correctly by making a request. The `gemini-1.5-flash` model has been selected here."
   ]
  },
  {
   "cell_type": "code",
   "execution_count": 6,
   "metadata": {
    "execution": {
     "iopub.execute_input": "2025-02-15T18:56:29.106128Z",
     "iopub.status.busy": "2025-02-15T18:56:29.105631Z",
     "iopub.status.idle": "2025-02-15T18:56:32.005956Z",
     "shell.execute_reply": "2025-02-15T18:56:32.004530Z",
     "shell.execute_reply.started": "2025-02-15T18:56:29.106076Z"
    },
    "id": "BV1o0PmcvyJF",
    "trusted": true
   },
   "outputs": [
    {
     "name": "stdout",
     "output_type": "stream",
     "text": [
      "Imagine you have a really smart puppy.  You teach it tricks, like \"sit\" and \"fetch.\"  At first, it doesn't know what those words mean, but you show it, and it learns.  It makes mistakes at first, but the more you teach it, the better it gets.\n",
      "\n",
      "Artificial Intelligence, or AI, is like that smart puppy, but instead of a puppy, it's a computer program.  We teach the computer program by showing it lots and lots of examples.  For example, we might show it thousands of pictures of cats and dogs so it can learn to tell the difference.\n",
      "\n",
      "The computer learns from those examples and gets better and better at recognizing cats and dogs, even if it sees a new cat or dog it's never seen before. It can even learn to do other things, like understand your voice when you talk to it, or play a game against you.\n",
      "\n",
      "It's not really \"thinking\" like you and me, but it's learning to solve problems and do things that usually only people can do, like playing chess or writing stories (although it still needs a lot of help from people to do those things really well!).\n",
      "\n",
      "So, AI is a clever computer program that learns from examples and gets better at doing things over time.  It's still being developed, but it's already doing lots of cool things!\n",
      "\n"
     ]
    }
   ],
   "source": [
    "flash = genai.GenerativeModel('gemini-1.5-flash')\n",
    "response = flash.generate_content(\"Explain AI to me like I'm a kid.\")\n",
    "print(response.text)"
   ]
  },
  {
   "cell_type": "markdown",
   "metadata": {
    "id": "f60ed9d8ae41"
   },
   "source": [
    "The response often comes back in markdown format, which you can render directly in this notebook."
   ]
  },
  {
   "cell_type": "code",
   "execution_count": 7,
   "metadata": {
    "execution": {
     "iopub.execute_input": "2025-02-15T18:56:32.007641Z",
     "iopub.status.busy": "2025-02-15T18:56:32.007304Z",
     "iopub.status.idle": "2025-02-15T18:56:32.015736Z",
     "shell.execute_reply": "2025-02-15T18:56:32.014595Z",
     "shell.execute_reply.started": "2025-02-15T18:56:32.007608Z"
    },
    "id": "c933e5e460a5",
    "trusted": true
   },
   "outputs": [
    {
     "data": {
      "text/markdown": [
       "Imagine you have a really smart puppy.  You teach it tricks, like \"sit\" and \"fetch.\"  At first, it doesn't know what those words mean, but you show it, and it learns.  It makes mistakes at first, but the more you teach it, the better it gets.\n",
       "\n",
       "Artificial Intelligence, or AI, is like that smart puppy, but instead of a puppy, it's a computer program.  We teach the computer program by showing it lots and lots of examples.  For example, we might show it thousands of pictures of cats and dogs so it can learn to tell the difference.\n",
       "\n",
       "The computer learns from those examples and gets better and better at recognizing cats and dogs, even if it sees a new cat or dog it's never seen before. It can even learn to do other things, like understand your voice when you talk to it, or play a game against you.\n",
       "\n",
       "It's not really \"thinking\" like you and me, but it's learning to solve problems and do things that usually only people can do, like playing chess or writing stories (although it still needs a lot of help from people to do those things really well!).\n",
       "\n",
       "So, AI is a clever computer program that learns from examples and gets better at doing things over time.  It's still being developed, but it's already doing lots of cool things!\n"
      ],
      "text/plain": [
       "<IPython.core.display.Markdown object>"
      ]
     },
     "execution_count": 7,
     "metadata": {},
     "output_type": "execute_result"
    }
   ],
   "source": [
    "Markdown(response.text)"
   ]
  },
  {
   "cell_type": "markdown",
   "metadata": {
    "id": "byx0pT9ZMW2Q"
   },
   "source": [
    "### Start a chat\n",
    "\n",
    "The previous example uses a single-turn, text-in/text-out structure, but you can also set up a multi-turn chat structure too."
   ]
  },
  {
   "cell_type": "code",
   "execution_count": 8,
   "metadata": {
    "execution": {
     "iopub.execute_input": "2025-02-15T18:56:32.017882Z",
     "iopub.status.busy": "2025-02-15T18:56:32.017420Z",
     "iopub.status.idle": "2025-02-15T18:56:32.575056Z",
     "shell.execute_reply": "2025-02-15T18:56:32.573788Z",
     "shell.execute_reply.started": "2025-02-15T18:56:32.017833Z"
    },
    "id": "lV_S5ZL5MidD",
    "trusted": true
   },
   "outputs": [
    {
     "name": "stdout",
     "output_type": "stream",
     "text": [
      "It's nice to meet you, Zlork!  How can I help you today?\n",
      "\n"
     ]
    }
   ],
   "source": [
    "chat = flash.start_chat(history=[])\n",
    "response = chat.send_message('Hello! My name is Zlork.')\n",
    "print(response.text)"
   ]
  },
  {
   "cell_type": "code",
   "execution_count": 9,
   "metadata": {
    "execution": {
     "iopub.execute_input": "2025-02-15T18:56:32.576914Z",
     "iopub.status.busy": "2025-02-15T18:56:32.576453Z",
     "iopub.status.idle": "2025-02-15T18:56:33.483961Z",
     "shell.execute_reply": "2025-02-15T18:56:33.482783Z",
     "shell.execute_reply.started": "2025-02-15T18:56:32.576863Z"
    },
    "id": "7b0372c3c64a",
    "trusted": true
   },
   "outputs": [
    {
     "name": "stdout",
     "output_type": "stream",
     "text": [
      "Did you know that some dinosaurs had feathers?  While we often picture them as scaly reptiles, many theropod dinosaurs (the group that includes *Tyrannosaurus rex*, but also smaller, bird-like dinosaurs) possessed feathers, ranging from simple filaments to complex, flight-capable plumes. This is strong evidence supporting the theory that birds evolved from dinosaurs.\n",
      "\n"
     ]
    }
   ],
   "source": [
    "response = chat.send_message('Can you tell something interesting about dinosaurs?')\n",
    "print(response.text)"
   ]
  },
  {
   "cell_type": "code",
   "execution_count": 10,
   "metadata": {
    "execution": {
     "iopub.execute_input": "2025-02-15T18:56:33.485664Z",
     "iopub.status.busy": "2025-02-15T18:56:33.485347Z",
     "iopub.status.idle": "2025-02-15T18:56:34.021358Z",
     "shell.execute_reply": "2025-02-15T18:56:34.020088Z",
     "shell.execute_reply.started": "2025-02-15T18:56:33.485633Z"
    },
    "id": "d3f9591392a7",
    "trusted": true
   },
   "outputs": [
    {
     "name": "stdout",
     "output_type": "stream",
     "text": [
      "Yes, your name is Zlork.\n",
      "\n"
     ]
    }
   ],
   "source": [
    "# While you have the `chat` object around, the conversation state\n",
    "# persists. Confirm that by asking if it knows my name.\n",
    "response = chat.send_message('Do you remember what my name is?')\n",
    "print(response.text)"
   ]
  },
  {
   "cell_type": "markdown",
   "metadata": {
    "id": "2KAjpr1200sW"
   },
   "source": [
    "### Choose a model\n",
    "\n",
    "The Gemini API provides access to a number of models from the Gemini model family. Read about the available models and their capabilities on the [model overview page](https://ai.google.dev/gemini-api/docs/models/gemini).\n",
    "\n",
    "In this step you'll use the API to list all of the available models."
   ]
  },
  {
   "cell_type": "code",
   "execution_count": 11,
   "metadata": {
    "execution": {
     "iopub.execute_input": "2025-02-15T18:56:34.022827Z",
     "iopub.status.busy": "2025-02-15T18:56:34.022494Z",
     "iopub.status.idle": "2025-02-15T18:56:34.306359Z",
     "shell.execute_reply": "2025-02-15T18:56:34.305072Z",
     "shell.execute_reply.started": "2025-02-15T18:56:34.022796Z"
    },
    "id": "uUUZa2uq2jDm",
    "trusted": true
   },
   "outputs": [
    {
     "name": "stdout",
     "output_type": "stream",
     "text": [
      "models/chat-bison-001\n",
      "models/text-bison-001\n",
      "models/embedding-gecko-001\n",
      "models/gemini-1.0-pro-latest\n",
      "models/gemini-1.0-pro\n",
      "models/gemini-pro\n",
      "models/gemini-1.0-pro-001\n",
      "models/gemini-1.0-pro-vision-latest\n",
      "models/gemini-pro-vision\n",
      "models/gemini-1.5-pro-latest\n",
      "models/gemini-1.5-pro-001\n",
      "models/gemini-1.5-pro-002\n",
      "models/gemini-1.5-pro\n",
      "models/gemini-1.5-flash-latest\n",
      "models/gemini-1.5-flash-001\n",
      "models/gemini-1.5-flash-001-tuning\n",
      "models/gemini-1.5-flash\n",
      "models/gemini-1.5-flash-002\n",
      "models/gemini-1.5-flash-8b\n",
      "models/gemini-1.5-flash-8b-001\n",
      "models/gemini-1.5-flash-8b-latest\n",
      "models/gemini-1.5-flash-8b-exp-0827\n",
      "models/gemini-1.5-flash-8b-exp-0924\n",
      "models/gemini-2.0-flash-exp\n",
      "models/gemini-2.0-flash\n",
      "models/gemini-2.0-flash-001\n",
      "models/gemini-2.0-flash-lite-preview\n",
      "models/gemini-2.0-flash-lite-preview-02-05\n",
      "models/gemini-2.0-pro-exp\n",
      "models/gemini-2.0-pro-exp-02-05\n",
      "models/gemini-exp-1206\n",
      "models/gemini-2.0-flash-thinking-exp-01-21\n",
      "models/gemini-2.0-flash-thinking-exp\n",
      "models/gemini-2.0-flash-thinking-exp-1219\n",
      "models/learnlm-1.5-pro-experimental\n",
      "models/embedding-001\n",
      "models/text-embedding-004\n",
      "models/aqa\n",
      "models/imagen-3.0-generate-002\n"
     ]
    }
   ],
   "source": [
    "for model in genai.list_models():\n",
    "  print(model.name)"
   ]
  },
  {
   "cell_type": "markdown",
   "metadata": {
    "id": "rN49kSI54R1v"
   },
   "source": [
    "The [`models.list`](https://ai.google.dev/api/models#method:-models.list) response also returns additional information about the model's capabilities, like the token limits and supported parameters."
   ]
  },
  {
   "cell_type": "code",
   "execution_count": 12,
   "metadata": {
    "execution": {
     "iopub.execute_input": "2025-02-15T18:56:34.308356Z",
     "iopub.status.busy": "2025-02-15T18:56:34.307913Z",
     "iopub.status.idle": "2025-02-15T18:56:34.572013Z",
     "shell.execute_reply": "2025-02-15T18:56:34.570769Z",
     "shell.execute_reply.started": "2025-02-15T18:56:34.308307Z"
    },
    "id": "k7JJ1K6j4Rl8",
    "trusted": true
   },
   "outputs": [
    {
     "name": "stdout",
     "output_type": "stream",
     "text": [
      "Model(name='models/gemini-1.5-flash',\n",
      "      base_model_id='',\n",
      "      version='001',\n",
      "      display_name='Gemini 1.5 Flash',\n",
      "      description=('Alias that points to the most recent stable version of Gemini 1.5 Flash, our '\n",
      "                   'fast and versatile multimodal model for scaling across diverse tasks.'),\n",
      "      input_token_limit=1000000,\n",
      "      output_token_limit=8192,\n",
      "      supported_generation_methods=['generateContent', 'countTokens'],\n",
      "      temperature=1.0,\n",
      "      max_temperature=2.0,\n",
      "      top_p=0.95,\n",
      "      top_k=40)\n"
     ]
    }
   ],
   "source": [
    "for model in genai.list_models():\n",
    "  if model.name == 'models/gemini-1.5-flash':\n",
    "    print(model)\n",
    "    break"
   ]
  },
  {
   "cell_type": "markdown",
   "metadata": {
    "id": "5rU_UBlZdooM"
   },
   "source": [
    "## Explore generation parameters\n",
    "\n"
   ]
  },
  {
   "cell_type": "markdown",
   "metadata": {
    "id": "G7NfEizeipbW"
   },
   "source": [
    "### Output length\n",
    "\n"
   ]
  },
  {
   "cell_type": "code",
   "execution_count": 13,
   "metadata": {
    "execution": {
     "iopub.execute_input": "2025-02-15T18:56:34.573719Z",
     "iopub.status.busy": "2025-02-15T18:56:34.573340Z",
     "iopub.status.idle": "2025-02-15T18:56:36.270837Z",
     "shell.execute_reply": "2025-02-15T18:56:36.269739Z",
     "shell.execute_reply.started": "2025-02-15T18:56:34.573661Z"
    },
    "id": "qVf23JsIi9ma",
    "trusted": true
   },
   "outputs": [
    {
     "name": "stdout",
     "output_type": "stream",
     "text": [
      "## The Enduring Significance of Olives in Modern Society\n",
      "\n",
      "The olive, *Olea europaea*, a seemingly humble fruit, holds a position of immense cultural, economic, and nutritional importance in modern society.  Its significance extends far beyond its culinary applications, weaving itself into the fabric of history, shaping landscapes, and contributing significantly to global economies and individual health.  From the ancient groves of the Mediterranean to the burgeoning olive oil industries of the Americas and beyond, the olive continues to exert a powerful influence, demonstrating its enduring relevance in a rapidly changing world.\n",
      "\n",
      "Historically, the olive tree has been more than just a source of food; it represented a symbol of peace, prosperity, and longevity. Its cultivation and the production of olive oil were integral to the development of ancient civilizations.  The Minoans, Greeks, and Romans all revered the olive, associating it with their gods and incorporating it into their mythology and rituals.  The olive branch, a potent symbol of peace, continues to hold its significance\n"
     ]
    }
   ],
   "source": [
    "short_model = genai.GenerativeModel(\n",
    "    'gemini-1.5-flash',\n",
    "    generation_config=genai.GenerationConfig(max_output_tokens=200))\n",
    "\n",
    "response = short_model.generate_content('Write a 1000 word essay on the importance of olives in modern society.')\n",
    "print(response.text)"
   ]
  },
  {
   "cell_type": "code",
   "execution_count": 14,
   "metadata": {
    "execution": {
     "iopub.execute_input": "2025-02-15T18:56:36.276227Z",
     "iopub.status.busy": "2025-02-15T18:56:36.275840Z",
     "iopub.status.idle": "2025-02-15T18:56:38.034334Z",
     "shell.execute_reply": "2025-02-15T18:56:38.033162Z",
     "shell.execute_reply.started": "2025-02-15T18:56:36.276192Z"
    },
    "id": "W-3kR2F5kdMR",
    "trusted": true
   },
   "outputs": [
    {
     "name": "stdout",
     "output_type": "stream",
     "text": [
      "From ancient groves, a bounty small,\n",
      "The olive's gift, embracing all.\n",
      "In salads bright, a verdant gleam,\n",
      "Or pressed to oil, a sunlit dream.\n",
      "\n",
      "A healthy heart, a flavor bold,\n",
      "A story whispered, ages old.\n",
      "From humble farm to kitchen shelf,\n",
      "The olive thrives, enriching wealth,\n",
      "Of taste and health, a simple grace,\n",
      "A timeless treasure, time and space\n",
      "Can't dim its light, its vibrant hue,\n",
      "The modern world, it sees it through. \n",
      "\n"
     ]
    }
   ],
   "source": [
    "response = short_model.generate_content('Write a short poem on the importance of olives in modern society.')\n",
    "print(response.text)"
   ]
  },
  {
   "cell_type": "markdown",
   "metadata": {
    "id": "3ZhDSLB6lqqB"
   },
   "source": [
    "Explore with your own prompts. Try a prompt with a restrictive output limit and then adjust the prompt to work within that limit."
   ]
  },
  {
   "cell_type": "markdown",
   "metadata": {
    "id": "alx-WaAvir_9"
   },
   "source": [
    "### Temperature\n",
    "\n",
    "Temperature controls the degree of randomness in token selection. Higher temperatures result in a higher number of candidate tokens from which the next output token is selected, and can produce more diverse results, while lower temperatures have the opposite effect, such that a temperature of 0 results in greedy decoding, selecting the most probable token at each step.\n",
    "\n",
    "Temperature doesn't provide any guarantees of randomness, but it can be used to \"nudge\" the output somewhat.\n",
    "\n",
    "**Note that if you see a 429 Resource Exhausted error here, you may be able to edit the words in the prompt slightly to progress.**"
   ]
  },
  {
   "cell_type": "code",
   "execution_count": 15,
   "metadata": {
    "execution": {
     "iopub.execute_input": "2025-02-15T18:56:38.035943Z",
     "iopub.status.busy": "2025-02-15T18:56:38.035573Z",
     "iopub.status.idle": "2025-02-15T18:56:40.408877Z",
     "shell.execute_reply": "2025-02-15T18:56:40.407721Z",
     "shell.execute_reply.started": "2025-02-15T18:56:38.035907Z"
    },
    "id": "SHraGMzqnZqt",
    "trusted": true
   },
   "outputs": [
    {
     "name": "stdout",
     "output_type": "stream",
     "text": [
      "Marigold\n",
      " -------------------------\n",
      "Maroon\n",
      " -------------------------\n",
      "Maroon\n",
      " -------------------------\n",
      "Maroon\n",
      " -------------------------\n",
      "Maroon\n",
      " -------------------------\n"
     ]
    }
   ],
   "source": [
    "from google.api_core import retry\n",
    "\n",
    "high_temp_model = genai.GenerativeModel(\n",
    "    'gemini-1.5-flash',\n",
    "    generation_config=genai.GenerationConfig(temperature=2.0))\n",
    "\n",
    "\n",
    "# When running lots of queries, it's a good practice to use a retry policy so your code\n",
    "# automatically retries when hitting Resource Exhausted (quota limit) errors.\n",
    "retry_policy = {\n",
    "    \"retry\": retry.Retry(predicate=retry.if_transient_error, initial=10, multiplier=1.5, timeout=300)\n",
    "}\n",
    "\n",
    "for _ in range(5):\n",
    "  response = high_temp_model.generate_content('Pick a random colour... (respond in a single word)',\n",
    "                                              request_options=retry_policy)\n",
    "  if response.parts:\n",
    "    print(response.text, '-' * 25)"
   ]
  },
  {
   "cell_type": "code",
   "execution_count": 16,
   "metadata": {
    "execution": {
     "iopub.execute_input": "2025-02-15T18:56:40.410902Z",
     "iopub.status.busy": "2025-02-15T18:56:40.410451Z",
     "iopub.status.idle": "2025-02-15T18:56:42.864637Z",
     "shell.execute_reply": "2025-02-15T18:56:42.863450Z",
     "shell.execute_reply.started": "2025-02-15T18:56:40.410852Z"
    },
    "id": "clymkWv-PfUZ",
    "trusted": true
   },
   "outputs": [
    {
     "name": "stdout",
     "output_type": "stream",
     "text": [
      "Maroon\n",
      " -------------------------\n",
      "Maroon\n",
      " -------------------------\n",
      "Maroon\n",
      " -------------------------\n",
      "Maroon\n",
      " -------------------------\n",
      "Maroon\n",
      " -------------------------\n"
     ]
    }
   ],
   "source": [
    "low_temp_model = genai.GenerativeModel(\n",
    "    'gemini-1.5-flash',\n",
    "    generation_config=genai.GenerationConfig(temperature=0.0))\n",
    "\n",
    "for _ in range(5):\n",
    "  response = low_temp_model.generate_content('Pick a random colour... (respond in a single word)',\n",
    "                                             request_options=retry_policy)\n",
    "  if response.parts:\n",
    "    print(response.text, '-' * 25)"
   ]
  },
  {
   "cell_type": "markdown",
   "metadata": {
    "id": "St5nt3vzitsZ"
   },
   "source": [
    "### Top-K and top-P\n",
    "\n",
    "Like temperature, top-K and top-P parameters are also used to control the diversity of the model's output.\n",
    "\n",
    "Top-K is a positive integer that defines the number of most probable tokens from which to select the output token. A top-K of 1 selects a single token, performing greedy decoding.\n",
    "\n",
    "Top-P defines the probability threshold that, once cumulatively exceeded, tokens stop being selected as candidates. A top-P of 0 is typically equivalent to greedy decoding, and a top-P of 1 typically selects every token in the model's vocabulary.\n",
    "\n",
    "When both are supplied, the Gemini API will filter top-K tokens first, then top-P and then finally sample from the candidate tokens using the supplied temperature.\n",
    "\n",
    "Run this example a number of times, change the settings and observe the change in output."
   ]
  },
  {
   "cell_type": "code",
   "execution_count": 17,
   "metadata": {
    "execution": {
     "iopub.execute_input": "2025-02-15T18:56:42.866104Z",
     "iopub.status.busy": "2025-02-15T18:56:42.865800Z",
     "iopub.status.idle": "2025-02-15T18:58:07.505365Z",
     "shell.execute_reply": "2025-02-15T18:58:07.504037Z",
     "shell.execute_reply.started": "2025-02-15T18:56:42.866074Z"
    },
    "id": "lPlzpEavUV8F",
    "trusted": true
   },
   "outputs": [
    {
     "name": "stdout",
     "output_type": "stream",
     "text": [
      "Whiskers twitched, emerald eyes narrowed, Midnight the tabby watched the old lady disappear down the street, her familiar blue handbag swinging with each step.  The front door creaked shut. This was it.  His chance.\n",
      "\n",
      "Midnight, a seasoned adventurer despite his mere two years, had a plan. He’d been eyeing the shiny red fire hydrant on the corner for days, convinced it held a secret.  He’d seen Mrs. Peabody, the eccentric cat lady next door, sniff it with a curious look on her face.  “It’s a gateway,” he’d purred to himself.  “A gateway to adventure.”\n",
      "\n",
      "With a graceful leap, he landed on the windowsill, then on the porch railing, and finally, with a nimble paw, on the ground. He was off. The sun felt warm on his sleek fur as he padded down the sidewalk, the scent of freshly cut grass filling his nose.\n",
      "\n",
      "He stopped by the hydrant, sniffing it cautiously.  His whiskers twitched.  It smelled of… something.  Strange and exciting.  He brushed against it, a shiver running down his spine.  He had a feeling.  \n",
      "\n",
      "Suddenly, the ground beneath him began to rumble. The hydrant vibrated, the red paint shimmering.  The rumbling grew louder, the world around him blurring, until he was swallowed by a blinding light.\n",
      "\n",
      "When Midnight opened his eyes, he found himself in a jungle. Lush green leaves formed a canopy overhead, filtering the sunlight into dappled patches. Exotic birds sang in the trees, and the air was thick with the scent of exotic flowers.  \n",
      "\n",
      "He was no longer a tabby cat.  He was a jungle cat, lithe and powerful.  His claws were sharper, his senses keener.  He stalked through the jungle, feeling a thrill he’d never known before.\n",
      "\n",
      "He encountered a family of monkeys, their chattering filling the air. They led him to a hidden spring, its water sparkling and cool. He drank deeply, feeling invigorated.\n",
      "\n",
      "Days turned into weeks. He learned the ways of the jungle, hunting with the grace of a panther, sleeping in sun-dappled hollows. He even befriended a mischievous monkey named Chico, who told him tales of a mythical waterfall, said to grant wishes.\n",
      "\n",
      "One morning, he heard the familiar rumble of the hydrant, a call to return. He knew he couldn't stay forever.  With a pang of sadness, he said goodbye to his new friends and rushed towards the red hydrant, its glow beckoning him back.\n",
      "\n",
      "He closed his eyes, the world swirling around him. When he opened them, he was back on the sidewalk, the familiar scent of Mrs. Peabody’s lavender bushes filling his nostrils.  \n",
      "\n",
      "He felt different. He’d seen things, felt things, he’d never thought possible.  He had a story to tell.\n",
      "\n",
      "As Mrs. Peabody opened her door, he rubbed against her legs, purring louder than he ever had before.  He was back, but he wasn't the same. He had tasted adventure, and he knew, deep in his feline heart, that it was just the beginning.  He had a feeling he'd be back to that red fire hydrant soon, ready for more. \n",
      "\n"
     ]
    }
   ],
   "source": [
    "model = genai.GenerativeModel(\n",
    "    'gemini-1.5-flash-001',\n",
    "    generation_config=genai.GenerationConfig(\n",
    "        # These are the default values for gemini-1.5-flash-001.\n",
    "        temperature=1.0,\n",
    "        top_k=64,\n",
    "        top_p=0.95,\n",
    "    ))\n",
    "\n",
    "story_prompt = \"You are a creative writer. Write a short story about a cat who goes on an adventure.\"\n",
    "response = model.generate_content(story_prompt, request_options=retry_policy)\n",
    "print(response.text)"
   ]
  },
  {
   "cell_type": "markdown",
   "metadata": {},
   "source": [
    "Cambiando parametros\n"
   ]
  },
  {
   "cell_type": "code",
   "execution_count": 18,
   "metadata": {
    "execution": {
     "iopub.execute_input": "2025-02-15T18:58:07.507479Z",
     "iopub.status.busy": "2025-02-15T18:58:07.507038Z",
     "iopub.status.idle": "2025-02-15T18:58:10.995282Z",
     "shell.execute_reply": "2025-02-15T18:58:10.994144Z",
     "shell.execute_reply.started": "2025-02-15T18:58:07.507433Z"
    },
    "trusted": true
   },
   "outputs": [
    {
     "name": "stdout",
     "output_type": "stream",
     "text": [
      "Bartholomew, a ginger tabby with a penchant for mischief and a disdain for routine, was bored. The sun streamed through the window, painting stripes across the living room rug, but it wasn't enough. He'd chased the dust motes, batted at the curtains, even attempted a daring leap onto the bookshelf, only to be thwarted by a strategically placed book. He yearned for something more, something... adventurous.\n",
      "\n",
      "His opportunity arrived in the form of a delivery man. The man, a jovial fellow with a booming laugh, left the door ajar for a fleeting moment. Bartholomew, with the agility of a seasoned acrobat, slipped out, his tail twitching with anticipation.\n",
      "\n",
      "The world outside was a symphony of smells and sounds. The scent of freshly cut grass tickled his nose, the chirping of birds filled the air, and the rumble of a passing truck vibrated the ground beneath his paws. He stalked through the garden, a hunter on the prowl, his emerald eyes scanning for prey. A plump robin, oblivious to the danger, hopped on the lawn. Bartholomew, with a silent pounce, missed his target by a whisker. The robin, startled, took flight, leaving Bartholomew with a frustrated meow.\n",
      "\n",
      "His adventure continued down the street, a maze of brick houses and manicured lawns. He encountered a grumpy bulldog, who growled at him with a menacing snarl. Bartholomew, undeterred, hissed back, puffing up his fur, before sauntering away with a disdainful flick of his tail.\n",
      "\n",
      "He found himself in a park, a haven of green and sunlight. Children laughed and played, their joyous cries echoing through the air. A group of pigeons, their feathers shimmering in the sun, pecked at crumbs on the ground. Bartholomew, with a mischievous glint in his eye, decided to join the feast. He stalked towards the pigeons, his tail held high, a predator ready to strike. The pigeons, sensing danger, scattered in a flurry of feathers, leaving Bartholomew with a mouthful of crumbs and a satisfied purr.\n",
      "\n",
      "As the sun began to set, casting long shadows across the park, Bartholomew knew it was time to return home. He had experienced the thrill of the unknown, the freedom of exploration, and the satisfaction of a successful hunt (sort of). He padded back to his house, his heart full of adventure, a mischievous grin on his face. He slipped through the open door, a triumphant meow escaping his lips.\n",
      "\n",
      "He curled up on his favorite cushion, the warmth of the sun still lingering on his fur. He had seen the world, tasted freedom, and returned home a hero. He was Bartholomew, the adventurous cat, and he knew, with a certainty that only a cat can possess, that this was just the beginning. \n",
      "\n"
     ]
    }
   ],
   "source": [
    "model = genai.GenerativeModel(\n",
    "    'gemini-1.5-flash-001',\n",
    "    generation_config=genai.GenerationConfig(\n",
    "        temperature=0.3,  # Generará respuestas más predecibles y coherentes\n",
    "        top_k=30,   \n",
    "        top_p=0.7,        # Considera solo tokens con probabilidad acumulada del 70%\n",
    "    ))\n",
    "\n",
    "story_prompt = \"You are a creative writer. Write a short story about a cat who goes on an adventure.\"\n",
    "response = model.generate_content(story_prompt)\n",
    "print(response.text)\n"
   ]
  },
  {
   "cell_type": "code",
   "execution_count": 19,
   "metadata": {
    "execution": {
     "iopub.execute_input": "2025-02-15T18:58:10.997542Z",
     "iopub.status.busy": "2025-02-15T18:58:10.997085Z",
     "iopub.status.idle": "2025-02-15T18:58:13.788363Z",
     "shell.execute_reply": "2025-02-15T18:58:13.787127Z",
     "shell.execute_reply.started": "2025-02-15T18:58:10.997491Z"
    },
    "trusted": true
   },
   "outputs": [
    {
     "name": "stdout",
     "output_type": "stream",
     "text": [
      "Bartholomew, a ginger tabby with a penchant for mischief and a disdain for routine, was bored. The sunbeams that usually danced on his favorite rug were dull, the birds outside chirping the same monotonous tune. He yearned for something more, something… adventurous.\n",
      "\n",
      "His opportunity arrived in the form of a delivery truck. The driver, a burly man with a booming laugh, had left the back door ajar, a tempting gap leading to a world beyond the familiar walls of his home. Bartholomew, with a flick of his tail and a mischievous glint in his eye, slipped through the opening.\n",
      "\n",
      "The world outside was a symphony of smells and sounds. The rumble of the truck, the scent of fresh asphalt, the cacophony of city life – it was exhilarating. He weaved through the legs of hurrying pedestrians, his whiskers twitching with excitement. He chased pigeons in the park, their startled cooing a delightful melody.\n",
      "\n",
      "He found himself in a bustling market, a kaleidoscope of colors and aromas. He sniffed at mounds of ripe fruit, his whiskers tickling the smooth skin of a plump mango. He even dared to sample a juicy strawberry, its sweetness a revelation.\n",
      "\n",
      "His adventure took him to a quiet alleyway, where he encountered a group of alley cats, their eyes gleaming with a mixture of suspicion and curiosity. Bartholomew, with his confident swagger and adventurous spirit, quickly charmed them. They shared stories of their escapades, their tales of daring escapes and stolen treats.\n",
      "\n",
      "As the sun began to set, casting long shadows across the city, Bartholomew knew it was time to return. He had tasted freedom, experienced the thrill of the unknown, and made new friends. He slipped back into the delivery truck, his heart brimming with a newfound sense of purpose.\n",
      "\n",
      "Back home, he curled up on his rug, the familiar warmth a comforting embrace. He had seen the world, tasted its flavors, and returned a changed cat. He was no longer just Bartholomew, the bored tabby. He was Bartholomew, the adventurer, a cat who had tasted freedom and returned with a story to tell. And as he drifted off to sleep, he dreamt of the next adventure, the next unknown corner of the world waiting to be explored. \n",
      "\n"
     ]
    }
   ],
   "source": [
    "model = genai.GenerativeModel(\n",
    "    'gemini-1.5-flash-001',\n",
    "    generation_config=genai.GenerationConfig(\n",
    "        temperature=0.0,  # Sin aleatoriedad\n",
    "        top_k=1,        \n",
    "        top_p=0.0,        # Sin muestreo, usa greedy decoding\n",
    "    ))\n",
    "\n",
    "story_prompt = \"You are a creative writer. Write a short story about a cat who goes on an adventure.\"\n",
    "response = model.generate_content(story_prompt)\n",
    "print(response.text)\n"
   ]
  },
  {
   "cell_type": "markdown",
   "metadata": {},
   "source": [
    "## Prompting\n",
    "\n",
    "This section contains some prompts from the chapter for you to try out directly in the API. Try changing the text here to see how each prompt performs with different instructions, more examples, or any other changes you can think of."
   ]
  },
  {
   "cell_type": "markdown",
   "metadata": {
    "id": "hhj_tQidZJP7"
   },
   "source": [
    "### Zero-shot\n",
    "\n",
    "Zero-shot prompts are prompts that describe the request for the model directly.\n",
    "\n",
    "<table align=left>\n",
    "  <td>\n",
    "    <a target=\"_blank\" href=\"https://aistudio.google.com/prompts/1gzKKgDHwkAvexG5Up0LMtl1-6jKMKe4g\"><img src=\"https://ai.google.dev/site-assets/images/marketing/home/icon-ais.png\" style=\"height: 24px\" height=24/> Open in AI Studio</a>\n",
    "  </td>\n",
    "</table>"
   ]
  },
  {
   "cell_type": "code",
   "execution_count": 20,
   "metadata": {
    "execution": {
     "iopub.execute_input": "2025-02-15T18:58:13.790156Z",
     "iopub.status.busy": "2025-02-15T18:58:13.789762Z",
     "iopub.status.idle": "2025-02-15T18:58:14.223581Z",
     "shell.execute_reply": "2025-02-15T18:58:14.222407Z",
     "shell.execute_reply.started": "2025-02-15T18:58:13.790121Z"
    },
    "id": "1_t-cwnDZzbH",
    "trusted": true
   },
   "outputs": [
    {
     "name": "stdout",
     "output_type": "stream",
     "text": [
      "Sentiment: **POSITIVE**\n"
     ]
    }
   ],
   "source": [
    "model = genai.GenerativeModel(\n",
    "    'gemini-1.5-flash-001',\n",
    "    generation_config=genai.GenerationConfig(\n",
    "        temperature=0.1,\n",
    "        top_p=1,\n",
    "        max_output_tokens=5,\n",
    "    ))\n",
    "\n",
    "zero_shot_prompt = \"\"\"Classify movie reviews as POSITIVE, NEUTRAL or NEGATIVE.\n",
    "Review: \"Her\" is a disturbing study revealing the direction\n",
    "humanity is headed if AI is allowed to keep evolving,\n",
    "unchecked. I wish there were more movies like this masterpiece.\n",
    "Sentiment: \"\"\"\n",
    "\n",
    "response = model.generate_content(zero_shot_prompt, request_options=retry_policy)\n",
    "print(response.text)"
   ]
  },
  {
   "cell_type": "markdown",
   "metadata": {},
   "source": [
    "# Código modificado "
   ]
  },
  {
   "cell_type": "code",
   "execution_count": null,
   "metadata": {
    "execution": {
     "iopub.execute_input": "2025-02-15T18:58:14.225280Z",
     "iopub.status.busy": "2025-02-15T18:58:14.224976Z",
     "iopub.status.idle": "2025-02-15T18:58:14.686749Z",
     "shell.execute_reply": "2025-02-15T18:58:14.685573Z",
     "shell.execute_reply.started": "2025-02-15T18:58:14.225251Z"
    },
    "trusted": true
   },
   "outputs": [
    {
     "name": "stdout",
     "output_type": "stream",
     "text": [
      "Sentiment: **NEGATIVE** \n",
      "\n"
     ]
    }
   ],
   "source": [
    "model = genai.GenerativeModel(\n",
    "    'gemini-1.5-flash-001',\n",
    "    generation_config=genai.GenerationConfig(\n",
    "        temperature=0.7, \n",
    "        top_p=0.9,    \n",
    "        max_output_tokens=10,  \n",
    "    ))\n",
    "\n",
    "zero_shot_prompt = \"\"\"Classify video game reviews as POSITIVE, NEUTRAL or NEGATIVE.\n",
    "Review: \"This game is an absolute disaster. The controls are clunky,\n",
    "the story is non-existent, and the graphics feel outdated. I regret buying it.\"\n",
    "Sentiment: \"\"\"\n",
    "\n",
    "response = model.generate_content(zero_shot_prompt)\n",
    "print(response.text)\n"
   ]
  },
  {
   "cell_type": "markdown",
   "metadata": {
    "id": "3b5568bdeb11"
   },
   "source": [
    "#### Enum mode\n",
    "\n",
    "The models are trained to generate text, and can sometimes produce more text than you may wish for. In the preceding example, the model will output the label, sometimes it can include a preceding \"Sentiment\" label, and without an output token limit, it may also add explanatory text afterwards.\n",
    "\n",
    "The Gemini API has an [Enum mode](https://github.com/google-gemini/cookbook/blob/main/quickstarts/Enum.ipynb) feature that allows you to constrain the output to a fixed set of values."
   ]
  },
  {
   "cell_type": "code",
   "execution_count": 22,
   "metadata": {
    "execution": {
     "iopub.execute_input": "2025-02-15T18:58:14.688396Z",
     "iopub.status.busy": "2025-02-15T18:58:14.688078Z",
     "iopub.status.idle": "2025-02-15T18:58:15.466247Z",
     "shell.execute_reply": "2025-02-15T18:58:15.464929Z",
     "shell.execute_reply.started": "2025-02-15T18:58:14.688365Z"
    },
    "id": "ad118a56c598",
    "trusted": true
   },
   "outputs": [
    {
     "name": "stdout",
     "output_type": "stream",
     "text": [
      "negative\n"
     ]
    }
   ],
   "source": [
    "import enum\n",
    "\n",
    "class Sentiment(enum.Enum):\n",
    "    POSITIVE = \"positive\"\n",
    "    NEUTRAL = \"neutral\"\n",
    "    NEGATIVE = \"negative\"\n",
    "\n",
    "\n",
    "model = genai.GenerativeModel(\n",
    "    'gemini-1.5-flash-001',\n",
    "    generation_config=genai.GenerationConfig(\n",
    "        response_mime_type=\"text/x.enum\",\n",
    "        response_schema=Sentiment\n",
    "    ))\n",
    "\n",
    "response = model.generate_content(zero_shot_prompt, request_options=retry_policy)\n",
    "print(response.text)"
   ]
  },
  {
   "cell_type": "markdown",
   "metadata": {},
   "source": [
    "# MI VERSIÓN"
   ]
  },
  {
   "cell_type": "code",
   "execution_count": 23,
   "metadata": {
    "execution": {
     "iopub.execute_input": "2025-02-15T18:58:15.467973Z",
     "iopub.status.busy": "2025-02-15T18:58:15.467592Z",
     "iopub.status.idle": "2025-02-15T18:58:15.969473Z",
     "shell.execute_reply": "2025-02-15T18:58:15.968287Z",
     "shell.execute_reply.started": "2025-02-15T18:58:15.467933Z"
    },
    "trusted": true
   },
   "outputs": [
    {
     "name": "stdout",
     "output_type": "stream",
     "text": [
      "NEGATIVE \n",
      "\n"
     ]
    }
   ],
   "source": [
    "import enum\n",
    "\n",
    "class Sentiment(enum.Enum):\n",
    "    POSITIVE = \"positive\"\n",
    "    NEUTRAL = \"neutral\"\n",
    "    NEGATIVE = \"negative\"\n",
    "\n",
    "model = genai.GenerativeModel(\n",
    "    'gemini-1.5-flash-001',\n",
    "    generation_config=genai.GenerationConfig(\n",
    "        temperature=0.3,  \n",
    "        top_p=0.8,       \n",
    "        max_output_tokens=5, \n",
    "    ))\n",
    "\n",
    "zero_shot_prompt = \"\"\"Classify gadget reviews as POSITIVE, NEUTRAL, or NEGATIVE.\n",
    "Review: \"The new smartwatch has great battery life and a sleek design, but the software is laggy and buggy.\"\n",
    "Sentiment: \"\"\"\n",
    "\n",
    "response = model.generate_content(zero_shot_prompt)\n",
    "print(response.text)\n"
   ]
  },
  {
   "cell_type": "markdown",
   "metadata": {
    "id": "0udiSwNbv45W"
   },
   "source": [
    "### One-shot and few-shot\n",
    "\n",
    "Providing an example of the expected response is known as a \"one-shot\" prompt. When you provide multiple examples, it is a \"few-shot\" prompt.\n",
    "\n",
    "<table align=left>\n",
    "  <td>\n",
    "    <a target=\"_blank\" href=\"https://aistudio.google.com/prompts/1jjWkjUSoMXmLvMJ7IzADr_GxHPJVV2bg\"><img src=\"https://ai.google.dev/site-assets/images/marketing/home/icon-ais.png\" style=\"height: 24px\" height=24/> Open in AI Studio</a>\n",
    "  </td>\n",
    "</table>\n"
   ]
  },
  {
   "cell_type": "code",
   "execution_count": 24,
   "metadata": {
    "execution": {
     "iopub.execute_input": "2025-02-15T18:58:15.970956Z",
     "iopub.status.busy": "2025-02-15T18:58:15.970643Z",
     "iopub.status.idle": "2025-02-15T18:58:16.626233Z",
     "shell.execute_reply": "2025-02-15T18:58:16.625022Z",
     "shell.execute_reply.started": "2025-02-15T18:58:15.970926Z"
    },
    "trusted": true
   },
   "outputs": [
    {
     "name": "stdout",
     "output_type": "stream",
     "text": [
      "```json\n",
      "{\n",
      "  \"size\": \"large\",\n",
      "  \"type\": \"normal\",\n",
      "  \"ingredients\": [\"cheese\", \"pineapple\"]\n",
      "}\n",
      "```\n",
      "\n"
     ]
    }
   ],
   "source": [
    "model = genai.GenerativeModel(\n",
    "    'gemini-1.5-flash-latest',\n",
    "    generation_config=genai.GenerationConfig(\n",
    "        temperature=0.1,\n",
    "        top_p=1,\n",
    "        max_output_tokens=250,\n",
    "    ))\n",
    "\n",
    "few_shot_prompt = \"\"\"Parse a customer's pizza order into valid JSON:\n",
    "\n",
    "EXAMPLE:\n",
    "I want a small pizza with cheese, tomato sauce, and pepperoni.\n",
    "JSON Response:\n",
    "```\n",
    "{\n",
    "\"size\": \"small\",\n",
    "\"type\": \"normal\",\n",
    "\"ingredients\": [\"cheese\", \"tomato sauce\", \"peperoni\"]\n",
    "}\n",
    "```\n",
    "\n",
    "EXAMPLE:\n",
    "Can I get a large pizza with tomato sauce, basil and mozzarella\n",
    "JSON Response:\n",
    "```\n",
    "{\n",
    "\"size\": \"large\",\n",
    "\"type\": \"normal\",\n",
    "\"ingredients\": [\"tomato sauce\", \"basil\", \"mozzarella\"]\n",
    "}\n",
    "\n",
    "ORDER:\n",
    "\"\"\"\n",
    "\n",
    "customer_order = \"Give me a large with cheese & pineapple\"\n",
    "\n",
    "\n",
    "response = model.generate_content([few_shot_prompt, customer_order], request_options=retry_policy)\n",
    "print(response.text)"
   ]
  },
  {
   "cell_type": "markdown",
   "metadata": {},
   "source": [
    "# MI VERSIÓN"
   ]
  },
  {
   "cell_type": "code",
   "execution_count": 25,
   "metadata": {
    "execution": {
     "iopub.execute_input": "2025-02-15T18:58:16.628162Z",
     "iopub.status.busy": "2025-02-15T18:58:16.627651Z",
     "iopub.status.idle": "2025-02-15T18:58:17.335391Z",
     "shell.execute_reply": "2025-02-15T18:58:17.334218Z",
     "shell.execute_reply.started": "2025-02-15T18:58:16.628087Z"
    },
    "trusted": true
   },
   "outputs": [
    {
     "name": "stdout",
     "output_type": "stream",
     "text": [
      "```json\n",
      "{\n",
      "  \"size\": \"medium\",\n",
      "  \"type\": \"normal\",\n",
      "  \"ingredients\": [\"extra cheese\", \"mushrooms\", \"ham\"]\n",
      "}\n",
      "```\n",
      "\n"
     ]
    }
   ],
   "source": [
    "model = genai.GenerativeModel(\n",
    "    'gemini-1.5-flash-latest',\n",
    "    generation_config=genai.GenerationConfig(\n",
    "        temperature=0.1,\n",
    "        top_p=1,\n",
    "        max_output_tokens=250,\n",
    "    ))\n",
    "\n",
    "few_shot_prompt = \"\"\"Parse a customer's pizza order into valid JSON:\n",
    "\n",
    "EXAMPLE:\n",
    "I want a small pizza with cheese, tomato sauce, and pepperoni.\n",
    "JSON Response:\n",
    "```\n",
    "{\n",
    "\"size\": \"small\",\n",
    "\"type\": \"normal\",\n",
    "\"ingredients\": [\"cheese\", \"tomato sauce\", \"pepperoni\"]\n",
    "}\n",
    "```\n",
    "\n",
    "EXAMPLE:\n",
    "Can I get a large pizza with tomato sauce, basil and mozzarella?\n",
    "JSON Response:\n",
    "```\n",
    "{\n",
    "\"size\": \"large\",\n",
    "\"type\": \"normal\",\n",
    "\"ingredients\": [\"tomato sauce\", \"basil\", \"mozzarella\"]\n",
    "}\n",
    "```\n",
    "\n",
    "EXAMPLE:\n",
    "I'd like a medium-sized vegetarian pizza with mushrooms, olives, and green peppers.\n",
    "JSON Response:\n",
    "```\n",
    "{\n",
    "\"size\": \"medium\",\n",
    "\"type\": \"vegetarian\",\n",
    "\"ingredients\": [\"mushrooms\", \"olives\", \"green peppers\"]\n",
    "}\n",
    "```\n",
    "\n",
    "EXAMPLE:\n",
    "Give me a family-size pizza with BBQ sauce, chicken, and onions.\n",
    "JSON Response:\n",
    "```\n",
    "{\n",
    "\"size\": \"family\",\n",
    "\"type\": \"BBQ\",\n",
    "\"ingredients\": [\"BBQ sauce\", \"chicken\", \"onions\"]\n",
    "}\n",
    "```\n",
    "\n",
    "EXAMPLE:\n",
    "Can I have a personal-size white pizza with ricotta, garlic, and spinach?\n",
    "JSON Response:\n",
    "```\n",
    "{\n",
    "\"size\": \"personal\",\n",
    "\"type\": \"white\",\n",
    "\"ingredients\": [\"ricotta\", \"garlic\", \"spinach\"]\n",
    "}\n",
    "```\n",
    "\n",
    "ORDER:\n",
    "\"\"\"\n",
    "\n",
    "customer_order = \"I'd like a medium pizza with extra cheese, mushrooms, and ham.\"\n",
    "\n",
    "response = model.generate_content([few_shot_prompt, customer_order], request_options=retry_policy)\n",
    "print(response.text)\n"
   ]
  },
  {
   "cell_type": "markdown",
   "metadata": {
    "id": "021293096f08"
   },
   "source": [
    "#### JSON mode\n",
    "\n",
    "To provide control over the schema, and to ensure that you only receive JSON (with no other text or markdown), you can use the Gemini API's [JSON mode](https://github.com/google-gemini/cookbook/blob/main/quickstarts/JSON_mode.ipynb). This forces the model to constrain decoding, such that token selection is guided by the supplied schema."
   ]
  },
  {
   "cell_type": "code",
   "execution_count": 26,
   "metadata": {
    "execution": {
     "iopub.execute_input": "2025-02-15T18:58:17.337529Z",
     "iopub.status.busy": "2025-02-15T18:58:17.337072Z",
     "iopub.status.idle": "2025-02-15T18:58:18.023807Z",
     "shell.execute_reply": "2025-02-15T18:58:18.022675Z",
     "shell.execute_reply.started": "2025-02-15T18:58:17.337481Z"
    },
    "id": "50fbf0260912",
    "trusted": true
   },
   "outputs": [
    {
     "name": "stdout",
     "output_type": "stream",
     "text": [
      "{\"ingredients\": [\"apple\", \"chocolate\"], \"size\": \"large\", \"type\": \"dessert pizza\"}\n"
     ]
    }
   ],
   "source": [
    "import typing_extensions as typing\n",
    "\n",
    "class PizzaOrder(typing.TypedDict):\n",
    "    size: str\n",
    "    ingredients: list[str]\n",
    "    type: str\n",
    "\n",
    "\n",
    "model = genai.GenerativeModel(\n",
    "    'gemini-1.5-flash-latest',\n",
    "    generation_config=genai.GenerationConfig(\n",
    "        temperature=0.1,\n",
    "        response_mime_type=\"application/json\",\n",
    "        response_schema=PizzaOrder,\n",
    "    ))\n",
    "\n",
    "response = model.generate_content(\"Can I have a large dessert pizza with apple and chocolate\")\n",
    "print(response.text)"
   ]
  },
  {
   "cell_type": "markdown",
   "metadata": {},
   "source": [
    "# MI VERSION"
   ]
  },
  {
   "cell_type": "code",
   "execution_count": 36,
   "metadata": {
    "execution": {
     "iopub.execute_input": "2025-02-15T19:05:18.679643Z",
     "iopub.status.busy": "2025-02-15T19:05:18.679228Z",
     "iopub.status.idle": "2025-02-15T19:05:19.406640Z",
     "shell.execute_reply": "2025-02-15T19:05:19.405502Z",
     "shell.execute_reply.started": "2025-02-15T19:05:18.679604Z"
    },
    "trusted": true
   },
   "outputs": [
    {
     "name": "stdout",
     "output_type": "stream",
     "text": [
      "{\"ingredients\": [\"mushrooms\", \"spinach\", \"extra cheese\"], \"size\": \"medium\", \"type\": \"stuffed-crust\"}\n"
     ]
    }
   ],
   "source": [
    "import typing_extensions as typing\n",
    "\n",
    "class PizzaOrder(typing.TypedDict):\n",
    "    size: str\n",
    "    ingredients: list[str]\n",
    "    type: str\n",
    "\n",
    "\n",
    "model = genai.GenerativeModel(\n",
    "    'gemini-1.5-flash-latest',\n",
    "    generation_config=genai.GenerationConfig(\n",
    "        temperature=0.1,\n",
    "        response_mime_type=\"application/json\",\n",
    "        response_schema=PizzaOrder,\n",
    "    ))\n",
    "\n",
    "response = model.generate_content(\"I'd like a medium stuffed-crust pizza with mushrooms, spinach, and extra cheese\")\n",
    "print(response.text)\n"
   ]
  },
  {
   "cell_type": "markdown",
   "metadata": {
    "id": "4a93e338e57c"
   },
   "source": [
    "### Chain of Thought (CoT)\n",
    "\n",
    "Direct prompting on LLMs can return answers quickly and (in terms of output token usage) efficiently, but they can be prone to hallucination. The answer may \"look\" correct (in terms of language and syntax) but is incorrect in terms of factuality and reasoning.\n",
    "\n",
    "Chain-of-Thought prompting is a technique where you instruct the model to output intermediate reasoning steps, and it typically gets better results, especially when combined with few-shot examples. It is worth noting that this technique doesn't completely eliminate hallucinations, and that it tends to cost more to run, due to the increased token count.\n",
    "\n",
    "As models like the Gemini family are trained to be \"chatty\" and provide reasoning steps, you can ask the model to be more direct in the prompt."
   ]
  },
  {
   "cell_type": "code",
   "execution_count": 27,
   "metadata": {
    "execution": {
     "iopub.execute_input": "2025-02-15T18:58:18.025376Z",
     "iopub.status.busy": "2025-02-15T18:58:18.025062Z",
     "iopub.status.idle": "2025-02-15T18:58:18.485546Z",
     "shell.execute_reply": "2025-02-15T18:58:18.484379Z",
     "shell.execute_reply.started": "2025-02-15T18:58:18.025345Z"
    },
    "id": "5715555db1c1",
    "trusted": true
   },
   "outputs": [
    {
     "name": "stdout",
     "output_type": "stream",
     "text": [
      "47\n",
      "\n"
     ]
    }
   ],
   "source": [
    "prompt = \"\"\"When I was 4 years old, my partner was 3 times my age. Now, I\n",
    "am 20 years old. How old is my partner? Return the answer directly.\"\"\"\n",
    "\n",
    "model = genai.GenerativeModel('gemini-1.5-flash-latest')\n",
    "response = model.generate_content(prompt, request_options=retry_policy)\n",
    "\n",
    "print(response.text)"
   ]
  },
  {
   "cell_type": "markdown",
   "metadata": {},
   "source": [
    "# MI VERSION"
   ]
  },
  {
   "cell_type": "code",
   "execution_count": 38,
   "metadata": {
    "execution": {
     "iopub.execute_input": "2025-02-15T19:06:12.957792Z",
     "iopub.status.busy": "2025-02-15T19:06:12.957373Z",
     "iopub.status.idle": "2025-02-15T19:06:13.482639Z",
     "shell.execute_reply": "2025-02-15T19:06:13.481568Z",
     "shell.execute_reply.started": "2025-02-15T19:06:12.957754Z"
    },
    "trusted": true
   },
   "outputs": [
    {
     "name": "stdout",
     "output_type": "stream",
     "text": [
      "25\n",
      "\n"
     ]
    }
   ],
   "source": [
    "prompt = \"\"\"Ten years ago, my sister was half my age. Now, I am 30 years old. How old is my sister? Return the answer directly.\"\"\"\n",
    "\n",
    "model = genai.GenerativeModel('gemini-1.5-flash-latest')\n",
    "response = model.generate_content(prompt, request_options=retry_policy)\n",
    "\n",
    "print(response.text)\n"
   ]
  },
  {
   "cell_type": "markdown",
   "metadata": {
    "id": "e12b19677bfd"
   },
   "source": [
    "Now try the same approach, but indicate to the model that it should \"think step by step\"."
   ]
  },
  {
   "cell_type": "code",
   "execution_count": 28,
   "metadata": {
    "execution": {
     "iopub.execute_input": "2025-02-15T18:58:18.487318Z",
     "iopub.status.busy": "2025-02-15T18:58:18.486957Z",
     "iopub.status.idle": "2025-02-15T18:58:19.695350Z",
     "shell.execute_reply": "2025-02-15T18:58:19.694023Z",
     "shell.execute_reply.started": "2025-02-15T18:58:18.487287Z"
    },
    "id": "ffd7536a481f",
    "trusted": true
   },
   "outputs": [
    {
     "name": "stdout",
     "output_type": "stream",
     "text": [
      "Here's how to solve this step-by-step:\n",
      "\n",
      "1. **Partner's age when you were 4:** When you were 4, your partner was 3 times your age, so they were 4 * 3 = 12 years old.\n",
      "\n",
      "2. **Age difference:** The age difference between you and your partner is 12 - 4 = 8 years.\n",
      "\n",
      "3. **Partner's current age:**  Since you are now 20, your partner is 20 + 8 = 28 years old.\n",
      "\n",
      "Therefore, your partner is now $\\boxed{28}$ years old.\n",
      "\n"
     ]
    }
   ],
   "source": [
    "prompt = \"\"\"When I was 4 years old, my partner was 3 times my age. Now,\n",
    "I am 20 years old. How old is my partner? Let's think step by step.\"\"\"\n",
    "\n",
    "response = model.generate_content(prompt, request_options=retry_policy)\n",
    "print(response.text)"
   ]
  },
  {
   "cell_type": "markdown",
   "metadata": {
    "id": "oiLgBQJj0V53"
   },
   "source": [
    "### ReAct: Reason and act\n",
    "\n",
    "In this example you will run a ReAct prompt directly in the Gemini API and perform the searching steps yourself. As this prompt follows a well-defined structure, there are frameworks available that wrap the prompt into easier-to-use APIs that make tool calls automatically, such as the LangChain example from the chapter.\n",
    "\n",
    "To try this out with the Wikipedia search engine, check out the [Searching Wikipedia with ReAct](https://github.com/google-gemini/cookbook/blob/main/examples/Search_Wikipedia_using_ReAct.ipynb) cookbook example.\n",
    "\n",
    "\n",
    "> Note: The prompt and in-context examples used here are from [https://github.com/ysymyth/ReAct](https://github.com/ysymyth/ReAct) which is published under a [MIT license](https://opensource.org/licenses/MIT), Copyright (c) 2023 Shunyu Yao.\n",
    "\n",
    "<table align=left>\n",
    "  <td>\n",
    "    <a target=\"_blank\" href=\"https://aistudio.google.com/prompts/18oo63Lwosd-bQ6Ay51uGogB3Wk3H8XMO\"><img src=\"https://ai.google.dev/site-assets/images/marketing/home/icon-ais.png\" style=\"height: 24px\" height=24/> Open in AI Studio</a>\n",
    "  </td>\n",
    "</table>\n"
   ]
  },
  {
   "cell_type": "code",
   "execution_count": 29,
   "metadata": {
    "execution": {
     "iopub.execute_input": "2025-02-15T18:58:19.697260Z",
     "iopub.status.busy": "2025-02-15T18:58:19.696957Z",
     "iopub.status.idle": "2025-02-15T18:58:19.703753Z",
     "shell.execute_reply": "2025-02-15T18:58:19.702608Z",
     "shell.execute_reply.started": "2025-02-15T18:58:19.697229Z"
    },
    "id": "cBgyNJ5z0VSs",
    "trusted": true
   },
   "outputs": [],
   "source": [
    "model_instructions = \"\"\"\n",
    "Solve a question answering task with interleaving Thought, Action, Observation steps. Thought can reason about the current situation,\n",
    "Observation is understanding relevant information from an Action's output and Action can be one of three types:\n",
    " (1) <search>entity</search>, which searches the exact entity on Wikipedia and returns the first paragraph if it exists. If not, it\n",
    "     will return some similar entities to search and you can try to search the information from those topics.\n",
    " (2) <lookup>keyword</lookup>, which returns the next sentence containing keyword in the current context. This only does exact matches,\n",
    "     so keep your searches short.\n",
    " (3) <finish>answer</finish>, which returns the answer and finishes the task.\n",
    "\"\"\"\n",
    "\n",
    "example1 = \"\"\"Question\n",
    "Musician and satirist Allie Goertz wrote a song about the \"The Simpsons\" character Milhouse, who Matt Groening named after who?\n",
    "\n",
    "Thought 1\n",
    "The question simplifies to \"The Simpsons\" character Milhouse is named after who. I only need to search Milhouse and find who it is named after.\n",
    "\n",
    "Action 1\n",
    "<search>Milhouse</search>\n",
    "\n",
    "Observation 1\n",
    "Milhouse Mussolini Van Houten is a recurring character in the Fox animated television series The Simpsons voiced by Pamela Hayden and created by Matt Groening.\n",
    "\n",
    "Thought 2\n",
    "The paragraph does not tell who Milhouse is named after, maybe I can look up \"named after\".\n",
    "\n",
    "Action 2\n",
    "<lookup>named after</lookup>\n",
    "\n",
    "Observation 2\n",
    "Milhouse was named after U.S. president Richard Nixon, whose middle name was Milhous.\n",
    "\n",
    "Thought 3\n",
    "Milhouse was named after U.S. president Richard Nixon, so the answer is Richard Nixon.\n",
    "\n",
    "Action 3\n",
    "<finish>Richard Nixon</finish>\n",
    "\"\"\"\n",
    "\n",
    "example2 = \"\"\"Question\n",
    "What is the elevation range for the area that the eastern sector of the Colorado orogeny extends into?\n",
    "\n",
    "Thought 1\n",
    "I need to search Colorado orogeny, find the area that the eastern sector of the Colorado orogeny extends into, then find the elevation range of the area.\n",
    "\n",
    "Action 1\n",
    "<search>Colorado orogeny</search>\n",
    "\n",
    "Observation 1\n",
    "The Colorado orogeny was an episode of mountain building (an orogeny) in Colorado and surrounding areas.\n",
    "\n",
    "Thought 2\n",
    "It does not mention the eastern sector. So I need to look up eastern sector.\n",
    "\n",
    "Action 2\n",
    "<lookup>eastern sector</lookup>\n",
    "\n",
    "Observation 2\n",
    "The eastern sector extends into the High Plains and is called the Central Plains orogeny.\n",
    "\n",
    "Thought 3\n",
    "The eastern sector of Colorado orogeny extends into the High Plains. So I need to search High Plains and find its elevation range.\n",
    "\n",
    "Action 3\n",
    "<search>High Plains</search>\n",
    "\n",
    "Observation 3\n",
    "High Plains refers to one of two distinct land regions\n",
    "\n",
    "Thought 4\n",
    "I need to instead search High Plains (United States).\n",
    "\n",
    "Action 4\n",
    "<search>High Plains (United States)</search>\n",
    "\n",
    "Observation 4\n",
    "The High Plains are a subregion of the Great Plains. From east to west, the High Plains rise in elevation from around 1,800 to 7,000 ft (550 to 2,130m).\n",
    "\n",
    "Thought 5\n",
    "High Plains rise in elevation from around 1,800 to 7,000 ft, so the answer is 1,800 to 7,000 ft.\n",
    "\n",
    "Action 5\n",
    "<finish>1,800 to 7,000 ft</finish>\n",
    "\"\"\"\n",
    "\n",
    "# Come up with more examples yourself, or take a look through https://github.com/ysymyth/ReAct/"
   ]
  },
  {
   "cell_type": "markdown",
   "metadata": {
    "id": "C3wbfstjTgey"
   },
   "source": [
    "To capture a single step at a time, while ignoring any hallucinated Observation steps, you will use `stop_sequences` to end the generation process. The steps are `Thought`, `Action`, `Observation`, in that order."
   ]
  },
  {
   "cell_type": "code",
   "execution_count": 30,
   "metadata": {
    "execution": {
     "iopub.execute_input": "2025-02-15T18:58:19.705837Z",
     "iopub.status.busy": "2025-02-15T18:58:19.705413Z",
     "iopub.status.idle": "2025-02-15T18:58:22.379636Z",
     "shell.execute_reply": "2025-02-15T18:58:22.378509Z",
     "shell.execute_reply.started": "2025-02-15T18:58:19.705792Z"
    },
    "id": "8mxrXRkRTdXm",
    "trusted": true
   },
   "outputs": [
    {
     "name": "stdout",
     "output_type": "stream",
     "text": [
      "Thought 1\n",
      "I need to find the Transformers NLP paper and then find the authors' ages to determine the youngest.  This will require searching for the paper and then likely some external information to find the authors' ages.\n",
      "\n",
      "Action 1\n",
      "<search>Transformers NLP paper</search>\n",
      "\n"
     ]
    }
   ],
   "source": [
    "question = \"\"\"Question\n",
    "Who was the youngest author listed on the transformers NLP paper?\n",
    "\"\"\"\n",
    "\n",
    "model = genai.GenerativeModel('gemini-1.5-flash-latest')\n",
    "react_chat = model.start_chat()\n",
    "\n",
    "# You will perform the Action, so generate up to, but not including, the Observation.\n",
    "config = genai.GenerationConfig(stop_sequences=[\"\\nObservation\"])\n",
    "\n",
    "resp = react_chat.send_message(\n",
    "    [model_instructions, example1, example2, question],\n",
    "    generation_config=config,\n",
    "    request_options=retry_policy)\n",
    "print(resp.text)"
   ]
  },
  {
   "cell_type": "markdown",
   "metadata": {
    "id": "aW2PIdLbVv3l"
   },
   "source": [
    "Now you can perform this research yourself and supply it back to the model."
   ]
  },
  {
   "cell_type": "code",
   "execution_count": 31,
   "metadata": {
    "execution": {
     "iopub.execute_input": "2025-02-15T18:58:22.381274Z",
     "iopub.status.busy": "2025-02-15T18:58:22.380961Z",
     "iopub.status.idle": "2025-02-15T18:58:24.052090Z",
     "shell.execute_reply": "2025-02-15T18:58:24.050784Z",
     "shell.execute_reply.started": "2025-02-15T18:58:22.381243Z"
    },
    "id": "mLMc0DZaV9g2",
    "trusted": true
   },
   "outputs": [
    {
     "name": "stdout",
     "output_type": "stream",
     "text": [
      "Thought 2\n",
      "The observation gives the authors of the paper \"Attention is All You Need.\"  I need to find their ages, which will require additional searching or lookups, likely outside of Wikipedia.  This task is difficult without access to external information sources beyond Wikipedia or the provided text.  Finding birthdates for all these authors will be time consuming.\n",
      "\n",
      "Action 2\n",
      "<finish>I cannot answer this question definitively without access to external resources to determine the age of each author listed in the provided citation.</finish>\n",
      "\n"
     ]
    }
   ],
   "source": [
    "observation = \"\"\"Observation 1\n",
    "[1706.03762] Attention Is All You Need\n",
    "Ashish Vaswani, Noam Shazeer, Niki Parmar, Jakob Uszkoreit, Llion Jones, Aidan N. Gomez, Lukasz Kaiser, Illia Polosukhin\n",
    "We propose a new simple network architecture, the Transformer, based solely on attention mechanisms, dispensing with recurrence and convolutions entirely.\n",
    "\"\"\"\n",
    "resp = react_chat.send_message(observation, generation_config=config, request_options=retry_policy)\n",
    "print(resp.text)"
   ]
  },
  {
   "cell_type": "markdown",
   "metadata": {
    "id": "bo0tzf4nX6dA"
   },
   "source": [
    "This process repeats until the `<finish>` action is reached. You can continue running this yourself if you like, or try the [Wikipedia example](https://github.com/google-gemini/cookbook/blob/main/examples/Search_Wikipedia_using_ReAct.ipynb) to see a fully automated ReAct system at work."
   ]
  },
  {
   "cell_type": "markdown",
   "metadata": {
    "id": "jPiZ_eIIaVPt"
   },
   "source": [
    "## Code prompting"
   ]
  },
  {
   "cell_type": "markdown",
   "metadata": {
    "id": "ZinKamwXeR6C"
   },
   "source": [
    "### Generating code\n",
    "\n",
    "The Gemini family of models can be used to generate code, configuration and scripts. Generating code can be helpful when learning to code, learning a new language or for rapidly generating a first draft.\n",
    "\n",
    "It's important to be aware that since LLMs can't reason, and can repeat training data, it's essential to read and test your code first, and comply with any relevant licenses.\n",
    "\n",
    "<table align=left>\n",
    "  <td>\n",
    "    <a target=\"_blank\" href=\"https://aistudio.google.com/prompts/1YX71JGtzDjXQkgdes8bP6i3oH5lCRKxv\"><img src=\"https://ai.google.dev/site-assets/images/marketing/home/icon-ais.png\" style=\"height: 24px\" height=24/> Open in AI Studio</a>\n",
    "  </td>\n",
    "</table>"
   ]
  },
  {
   "cell_type": "code",
   "execution_count": 32,
   "metadata": {
    "execution": {
     "iopub.execute_input": "2025-02-15T18:58:24.053658Z",
     "iopub.status.busy": "2025-02-15T18:58:24.053336Z",
     "iopub.status.idle": "2025-02-15T18:58:24.712403Z",
     "shell.execute_reply": "2025-02-15T18:58:24.711278Z",
     "shell.execute_reply.started": "2025-02-15T18:58:24.053625Z"
    },
    "id": "fOQP9pqmeUO1",
    "trusted": true
   },
   "outputs": [
    {
     "data": {
      "text/markdown": [
       "```python\n",
       "def factorial(n):\n",
       "  if n == 0:\n",
       "    return 1\n",
       "  else:\n",
       "    return n * factorial(n-1)\n",
       "```\n"
      ],
      "text/plain": [
       "<IPython.core.display.Markdown object>"
      ]
     },
     "execution_count": 32,
     "metadata": {},
     "output_type": "execute_result"
    }
   ],
   "source": [
    "model = genai.GenerativeModel(\n",
    "    'gemini-1.5-flash-latest',\n",
    "    generation_config=genai.GenerationConfig(\n",
    "        temperature=1,\n",
    "        top_p=1,\n",
    "        max_output_tokens=1024,\n",
    "    ))\n",
    "\n",
    "# Gemini 1.5 models are very chatty, so it helps to specify they stick to the code.\n",
    "code_prompt = \"\"\"\n",
    "Write a Python function to calculate the factorial of a number. No explanation, provide only the code.\n",
    "\"\"\"\n",
    "\n",
    "response = model.generate_content(code_prompt, request_options=retry_policy)\n",
    "Markdown(response.text)"
   ]
  },
  {
   "cell_type": "markdown",
   "metadata": {},
   "source": [
    "# MI VERSION"
   ]
  },
  {
   "cell_type": "code",
   "execution_count": 39,
   "metadata": {
    "execution": {
     "iopub.execute_input": "2025-02-15T19:09:02.614542Z",
     "iopub.status.busy": "2025-02-15T19:09:02.614101Z",
     "iopub.status.idle": "2025-02-15T19:09:03.433843Z",
     "shell.execute_reply": "2025-02-15T19:09:03.432718Z",
     "shell.execute_reply.started": "2025-02-15T19:09:02.614506Z"
    },
    "trusted": true
   },
   "outputs": [
    {
     "data": {
      "text/markdown": [
       "```python\n",
       "def is_prime(n):\n",
       "  if n <= 1:\n",
       "    return False\n",
       "  for i in range(2, int(n**0.5) + 1):\n",
       "    if n % i == 0:\n",
       "      return False\n",
       "  return True\n",
       "```\n"
      ],
      "text/plain": [
       "<IPython.core.display.Markdown object>"
      ]
     },
     "execution_count": 39,
     "metadata": {},
     "output_type": "execute_result"
    }
   ],
   "source": [
    "model = genai.GenerativeModel(\n",
    "    'gemini-1.5-flash-latest',\n",
    "    generation_config=genai.GenerationConfig(\n",
    "        temperature=1,\n",
    "        top_p=1,\n",
    "        max_output_tokens=1024,\n",
    "    ))\n",
    "\n",
    "code_prompt = \"\"\"\n",
    "Write a Python function to check if a number is prime. No explanation, provide only the code.\n",
    "\"\"\"\n",
    "\n",
    "response = model.generate_content(code_prompt, request_options=retry_policy)\n",
    "Markdown(response.text)\n"
   ]
  },
  {
   "cell_type": "markdown",
   "metadata": {
    "id": "wlBMWSFhgVRQ"
   },
   "source": [
    "### Code execution\n",
    "\n",
    "The Gemini API can automatically run generated code too, and will return the output.\n",
    "\n",
    "<table align=left>\n",
    "  <td>\n",
    "    <a target=\"_blank\" href=\"https://aistudio.google.com/prompts/11veFr_VYEwBWcLkhNLr-maCG0G8sS_7Z\"><img src=\"https://ai.google.dev/site-assets/images/marketing/home/icon-ais.png\" style=\"height: 24px\" height=24/> Open in AI Studio</a>\n",
    "  </td>\n",
    "</table>"
   ]
  },
  {
   "cell_type": "code",
   "execution_count": 33,
   "metadata": {
    "execution": {
     "iopub.execute_input": "2025-02-15T18:58:24.714099Z",
     "iopub.status.busy": "2025-02-15T18:58:24.713795Z",
     "iopub.status.idle": "2025-02-15T18:58:28.450720Z",
     "shell.execute_reply": "2025-02-15T18:58:28.449528Z",
     "shell.execute_reply.started": "2025-02-15T18:58:24.714070Z"
    },
    "id": "jT3OfWYfhjRL",
    "trusted": true
   },
   "outputs": [
    {
     "data": {
      "text/markdown": [
       "To calculate the sum of the first 14 odd prime numbers, I will first generate a list of prime numbers and then sum the first 14 odd primes from that list.  I'll need to exclude 2 (the only even prime number).\n",
       "\n",
       "\n",
       "``` python\n",
       "def is_prime(n):\n",
       "    \"\"\"Checks if a number is prime.\"\"\"\n",
       "    if n <= 1:\n",
       "        return False\n",
       "    for i in range(2, int(n**0.5) + 1):\n",
       "        if n % i == 0:\n",
       "            return False\n",
       "    return True\n",
       "\n",
       "primes = []\n",
       "num = 2\n",
       "count = 0\n",
       "while count < 20: # Generate more than 14 primes to ensure we have enough odd primes.\n",
       "    if is_prime(num):\n",
       "        primes.append(num)\n",
       "        count += 1\n",
       "    num += 1\n",
       "\n",
       "odd_primes = [p for p in primes if p % 2 != 0]\n",
       "sum_of_first_14_odd_primes = sum(odd_primes[:14])\n",
       "print(f'{odd_primes=}')\n",
       "print(f'{sum_of_first_14_odd_primes=}')\n",
       "\n",
       "\n",
       "```\n",
       "```\n",
       "odd_primes=[3, 5, 7, 11, 13, 17, 19, 23, 29, 31, 37, 41, 43, 47, 53, 59, 61, 67, 71]\n",
       "sum_of_first_14_odd_primes=326\n",
       "\n",
       "```\n",
       "The first 14 odd prime numbers are 3, 5, 7, 11, 13, 17, 19, 23, 29, 31, 37, 41, 43, and 47.  Their sum is 326.\n"
      ],
      "text/plain": [
       "<IPython.core.display.Markdown object>"
      ]
     },
     "execution_count": 33,
     "metadata": {},
     "output_type": "execute_result"
    }
   ],
   "source": [
    "model = genai.GenerativeModel(\n",
    "    'gemini-1.5-flash-latest',\n",
    "    tools='code_execution',)\n",
    "\n",
    "code_exec_prompt = \"\"\"\n",
    "Calculate the sum of the first 14 prime numbers. Only consider the odd primes, and make sure you count them all.\n",
    "\"\"\"\n",
    "\n",
    "response = model.generate_content(code_exec_prompt, request_options=retry_policy)\n",
    "Markdown(response.text)"
   ]
  },
  {
   "cell_type": "markdown",
   "metadata": {
    "id": "ZspT1GSkjG6d"
   },
   "source": [
    "While this looks like a single-part response, you can inspect the response to see the each of the steps: initial text, code generation, execution results, and final text summary."
   ]
  },
  {
   "cell_type": "markdown",
   "metadata": {},
   "source": [
    "# MI VERSION"
   ]
  },
  {
   "cell_type": "code",
   "execution_count": 40,
   "metadata": {
    "execution": {
     "iopub.execute_input": "2025-02-15T19:10:22.408316Z",
     "iopub.status.busy": "2025-02-15T19:10:22.407861Z",
     "iopub.status.idle": "2025-02-15T19:10:24.164760Z",
     "shell.execute_reply": "2025-02-15T19:10:24.163764Z",
     "shell.execute_reply.started": "2025-02-15T19:10:22.408279Z"
    },
    "trusted": true
   },
   "outputs": [
    {
     "data": {
      "text/markdown": [
       "To calculate the product of the first 10 even numbers, I will use Python.  The first 10 even numbers are 2, 4, 6, 8, 10, 12, 14, 16, 18, 20. I will use a loop to calculate their product.\n",
       "\n",
       "\n",
       "\n",
       "``` python\n",
       "product = 1\n",
       "for i in range(2, 22, 2):\n",
       "    product *= i\n",
       "print(product)\n",
       "\n",
       "```\n",
       "```\n",
       "3715891200\n",
       "\n",
       "```\n",
       "The product of the first 10 even numbers is 3,715,891,200.\n"
      ],
      "text/plain": [
       "<IPython.core.display.Markdown object>"
      ]
     },
     "execution_count": 40,
     "metadata": {},
     "output_type": "execute_result"
    }
   ],
   "source": [
    "model = genai.GenerativeModel(\n",
    "    'gemini-1.5-flash-latest',\n",
    "    tools='code_execution',)\n",
    "\n",
    "code_exec_prompt = \"\"\"\n",
    "Calculate the product of the first 10 even numbers. Return only the numerical result.\n",
    "\"\"\"\n",
    "\n",
    "response = model.generate_content(code_exec_prompt, request_options=retry_policy)\n",
    "Markdown(response.text)\n"
   ]
  },
  {
   "cell_type": "code",
   "execution_count": 34,
   "metadata": {
    "execution": {
     "iopub.execute_input": "2025-02-15T18:58:28.452574Z",
     "iopub.status.busy": "2025-02-15T18:58:28.452273Z",
     "iopub.status.idle": "2025-02-15T18:58:28.458086Z",
     "shell.execute_reply": "2025-02-15T18:58:28.457030Z",
     "shell.execute_reply.started": "2025-02-15T18:58:28.452546Z"
    },
    "id": "j4gQVzcRjRX-",
    "trusted": true
   },
   "outputs": [
    {
     "name": "stdout",
     "output_type": "stream",
     "text": [
      "text: \"To calculate the sum of the first 14 odd prime numbers, I will first generate a list of prime numbers and then sum the first 14 odd primes from that list.  I\\'ll need to exclude 2 (the only even prime number).\\n\\n\"\n",
      "\n",
      "-----\n",
      "executable_code {\n",
      "  language: PYTHON\n",
      "  code: \"\\ndef is_prime(n):\\n    \\\"\\\"\\\"Checks if a number is prime.\\\"\\\"\\\"\\n    if n <= 1:\\n        return False\\n    for i in range(2, int(n**0.5) + 1):\\n        if n % i == 0:\\n            return False\\n    return True\\n\\nprimes = []\\nnum = 2\\ncount = 0\\nwhile count < 20: # Generate more than 14 primes to ensure we have enough odd primes.\\n    if is_prime(num):\\n        primes.append(num)\\n        count += 1\\n    num += 1\\n\\nodd_primes = [p for p in primes if p % 2 != 0]\\nsum_of_first_14_odd_primes = sum(odd_primes[:14])\\nprint(f\\'{odd_primes=}\\')\\nprint(f\\'{sum_of_first_14_odd_primes=}\\')\\n\\n\"\n",
      "}\n",
      "\n",
      "-----\n",
      "code_execution_result {\n",
      "  outcome: OUTCOME_OK\n",
      "  output: \"odd_primes=[3, 5, 7, 11, 13, 17, 19, 23, 29, 31, 37, 41, 43, 47, 53, 59, 61, 67, 71]\\nsum_of_first_14_odd_primes=326\\n\"\n",
      "}\n",
      "\n",
      "-----\n",
      "text: \"The first 14 odd prime numbers are 3, 5, 7, 11, 13, 17, 19, 23, 29, 31, 37, 41, 43, and 47.  Their sum is 326.\\n\"\n",
      "\n",
      "-----\n"
     ]
    }
   ],
   "source": [
    "for part in response.candidates[0].content.parts:\n",
    "  print(part)\n",
    "  print(\"-----\")"
   ]
  },
  {
   "cell_type": "markdown",
   "metadata": {
    "id": "1gUX8QzCj4d5"
   },
   "source": [
    "### Explaining code\n",
    "\n",
    "The Gemini family of models can explain code to you too.\n",
    "\n",
    "<table align=left>\n",
    "  <td>\n",
    "    <a target=\"_blank\" href=\"https://aistudio.google.com/prompts/1N7LGzWzCYieyOf_7bAG4plrmkpDNmUyb\"><img src=\"https://ai.google.dev/site-assets/images/marketing/home/icon-ais.png\" style=\"height: 24px\" height=24/> Open in AI Studio</a>\n",
    "  </td>\n",
    "</table>"
   ]
  },
  {
   "cell_type": "code",
   "execution_count": 35,
   "metadata": {
    "execution": {
     "iopub.execute_input": "2025-02-15T18:58:28.459662Z",
     "iopub.status.busy": "2025-02-15T18:58:28.459340Z",
     "iopub.status.idle": "2025-02-15T18:58:31.258199Z",
     "shell.execute_reply": "2025-02-15T18:58:31.257137Z",
     "shell.execute_reply.started": "2025-02-15T18:58:28.459631Z"
    },
    "id": "7_jPMMoxkIEb",
    "trusted": true
   },
   "outputs": [
    {
     "data": {
      "text/markdown": [
       "This file is a Bash script that enhances your shell prompt to display information about your Git repository.  Think of it as a highly customizable Git status indicator for your terminal.\n",
       "\n",
       "**What it does:**\n",
       "\n",
       "At a very high level, the script adds to your shell prompt (the line you type commands on) information such as:\n",
       "\n",
       "* **Current Git branch:**  Shows the name of the branch you're currently working on.\n",
       "* **Changes:** Indicates if you have uncommitted changes (added, modified, deleted files), staged changes, conflicts, etc.\n",
       "* **Upstream status:** If you're tracking a remote branch, it will show how many commits you're ahead or behind.\n",
       "* **Optional features:** It offers a variety of customization options, including different color themes, symbols for indicating changes, and whether to show the information only when inside a Git repository.\n",
       "\n",
       "**Why you'd use it:**\n",
       "\n",
       "You would use this script to improve your workflow by providing a quick visual overview of your Git repository's status without needing to explicitly run `git status` every time.  This is particularly useful for developers who frequently switch between branches and make changes.  The visual cues help you stay aware of your repository's state and avoid accidental commits or pushes.  The color-coding and theming options enhance readability and aesthetics.\n"
      ],
      "text/plain": [
       "<IPython.core.display.Markdown object>"
      ]
     },
     "execution_count": 35,
     "metadata": {},
     "output_type": "execute_result"
    }
   ],
   "source": [
    "file_contents = !curl https://raw.githubusercontent.com/magicmonty/bash-git-prompt/refs/heads/master/gitprompt.sh\n",
    "\n",
    "explain_prompt = f\"\"\"\n",
    "Please explain what this file does at a very high level. What is it, and why would I use it?\n",
    "\n",
    "```\n",
    "{file_contents}\n",
    "```\n",
    "\"\"\"\n",
    "\n",
    "model = genai.GenerativeModel('gemini-1.5-flash-latest')\n",
    "\n",
    "response = model.generate_content(explain_prompt, request_options=retry_policy)\n",
    "Markdown(response.text)"
   ]
  },
  {
   "cell_type": "markdown",
   "metadata": {
    "id": "2a8266d97ce5"
   },
   "source": [
    "## Learn more\n",
    "\n",
    "To learn more about prompting in depth:\n",
    "\n",
    "* Check out the whitepaper issued with today's content,\n",
    "* Try out the apps listed at the top of this notebook ([TextFX](https://textfx.withgoogle.com/), [SQL Talk](https://sql-talk-r5gdynozbq-uc.a.run.app/) and [NotebookLM](https://notebooklm.google/)),\n",
    "* Read the [Introduction to Prompting](https://ai.google.dev/gemini-api/docs/prompting-intro) from the Gemini API docs,\n",
    "* Explore the Gemini API's [prompt gallery](https://ai.google.dev/gemini-api/prompts) and try them out in AI Studio,\n",
    "* Check out the Gemini API cookbook for [inspirational examples](https://github.com/google-gemini/cookbook/blob/main/examples/) and [educational quickstarts](https://github.com/google-gemini/cookbook/blob/main/quickstarts/).\n",
    "\n",
    "And please share anything exciting you have tried in the Discord!"
   ]
  }
 ],
 "metadata": {
  "colab": {
   "name": "day-1-prompting.ipynb",
   "toc_visible": true
  },
  "kaggle": {
   "accelerator": "none",
   "dataSources": [],
   "dockerImageVersionId": 30786,
   "isGpuEnabled": false,
   "isInternetEnabled": true,
   "language": "python",
   "sourceType": "notebook"
  },
  "kernelspec": {
   "display_name": "Python 3",
   "language": "python",
   "name": "python3"
  },
  "language_info": {
   "codemirror_mode": {
    "name": "ipython",
    "version": 3
   },
   "file_extension": ".py",
   "mimetype": "text/x-python",
   "name": "python",
   "nbconvert_exporter": "python",
   "pygments_lexer": "ipython3",
   "version": "3.10.14"
  }
 },
 "nbformat": 4,
 "nbformat_minor": 4
}
